{
  "cells": [
    {
      "cell_type": "code",
      "execution_count": null,
      "metadata": {
        "id": "W4fUgZCowIPe"
      },
      "outputs": [],
      "source": [
        "import numpy as np\n",
        "import pandas as pd\n",
        "import missingno as msno\n",
        "import matplotlib.pyplot as plt\n",
        "import seaborn as sns\n",
        "from google.colab import files\n",
        "from scipy import stats\n",
        "from scipy.stats import norm\n",
        "import statistics\n",
        "\n",
        "from sklearn.model_selection import train_test_split\n",
        "from sklearn.ensemble import GradientBoostingRegressor\n",
        "from sklearn.metrics import classification_report, accuracy_score\n",
        "from sklearn.metrics import mean_squared_error, roc_curve, r2_score, mean_squared_error\n",
        "from sklearn.model_selection import cross_validate\n",
        "\n",
        "from sklearn.feature_selection import chi2, mutual_info_regression, mutual_info_classif\n",
        "from sklearn.model_selection import GridSearchCV, RandomizedSearchCV, cross_val_score, train_test_split\n",
        "\n",
        "from sklearn.metrics import accuracy_score\n",
        "from sklearn.linear_model import LogisticRegression\n",
        "from sklearn.neighbors import KNeighborsClassifier\n",
        "from sklearn.svm import SVC, SVR\n",
        "from sklearn.ensemble import RandomForestClassifier\n",
        "from xgboost import XGBClassifier\n",
        "from lightgbm import LGBMClassifier\n",
        "from sklearn.naive_bayes import GaussianNB\n",
        "\n",
        "from sklearn.preprocessing import PowerTransformer, LabelEncoder, OneHotEncoder, MinMaxScaler\n",
        "from imblearn.over_sampling import SMOTE\n",
        "\n",
        "\n",
        "from sklearn.pipeline import Pipeline\n",
        "from sklearn.compose import ColumnTransformer\n",
        "\n",
        "%matplotlib inline"
      ]
    },
    {
      "cell_type": "code",
      "execution_count": null,
      "metadata": {
        "colab": {
          "base_uri": "https://localhost:8080/"
        },
        "id": "GjUYBX0m0KUQ",
        "outputId": "02daac2e-ca3f-4feb-f6e5-2c09b843d213"
      },
      "outputs": [
        {
          "name": "stdout",
          "output_type": "stream",
          "text": [
            "Looking in indexes: https://pypi.org/simple, https://us-python.pkg.dev/colab-wheels/public/simple/\n",
            "Collecting category_encoders\n",
            "  Downloading category_encoders-2.6.0-py2.py3-none-any.whl (81 kB)\n",
            "\u001b[2K     \u001b[90m━━━━━━━━━━━━━━━━━━━━━━━━━━━━━━━━━━━━━━━━\u001b[0m \u001b[32m81.2/81.2 kB\u001b[0m \u001b[31m2.3 MB/s\u001b[0m eta \u001b[36m0:00:00\u001b[0m\n",
            "\u001b[?25hRequirement already satisfied: patsy>=0.5.1 in /usr/local/lib/python3.10/dist-packages (from category_encoders) (0.5.3)\n",
            "Requirement already satisfied: scipy>=1.0.0 in /usr/local/lib/python3.10/dist-packages (from category_encoders) (1.10.1)\n",
            "Requirement already satisfied: numpy>=1.14.0 in /usr/local/lib/python3.10/dist-packages (from category_encoders) (1.22.4)\n",
            "Requirement already satisfied: statsmodels>=0.9.0 in /usr/local/lib/python3.10/dist-packages (from category_encoders) (0.13.5)\n",
            "Requirement already satisfied: scikit-learn>=0.20.0 in /usr/local/lib/python3.10/dist-packages (from category_encoders) (1.2.2)\n",
            "Requirement already satisfied: pandas>=1.0.5 in /usr/local/lib/python3.10/dist-packages (from category_encoders) (1.5.3)\n",
            "Requirement already satisfied: python-dateutil>=2.8.1 in /usr/local/lib/python3.10/dist-packages (from pandas>=1.0.5->category_encoders) (2.8.2)\n",
            "Requirement already satisfied: pytz>=2020.1 in /usr/local/lib/python3.10/dist-packages (from pandas>=1.0.5->category_encoders) (2022.7.1)\n",
            "Requirement already satisfied: six in /usr/local/lib/python3.10/dist-packages (from patsy>=0.5.1->category_encoders) (1.16.0)\n",
            "Requirement already satisfied: joblib>=1.1.1 in /usr/local/lib/python3.10/dist-packages (from scikit-learn>=0.20.0->category_encoders) (1.2.0)\n",
            "Requirement already satisfied: threadpoolctl>=2.0.0 in /usr/local/lib/python3.10/dist-packages (from scikit-learn>=0.20.0->category_encoders) (3.1.0)\n",
            "Requirement already satisfied: packaging>=21.3 in /usr/local/lib/python3.10/dist-packages (from statsmodels>=0.9.0->category_encoders) (23.1)\n",
            "Installing collected packages: category_encoders\n",
            "Successfully installed category_encoders-2.6.0\n"
          ]
        }
      ],
      "source": [
        "pip install category_encoders"
      ]
    },
    {
      "cell_type": "code",
      "execution_count": null,
      "metadata": {
        "colab": {
          "background_save": true,
          "base_uri": "https://localhost:8080/"
        },
        "id": "CDjZMLWJw95R",
        "outputId": "ded12e5c-6bfd-4cc8-b046-6eb618646546"
      },
      "outputs": [
        {
          "data": {
            "text/html": [
              "\n",
              "     <input type=\"file\" id=\"files-454ad763-2d40-4968-a488-eca3219d7c10\" name=\"files[]\" multiple disabled\n",
              "        style=\"border:none\" />\n",
              "     <output id=\"result-454ad763-2d40-4968-a488-eca3219d7c10\">\n",
              "      Upload widget is only available when the cell has been executed in the\n",
              "      current browser session. Please rerun this cell to enable.\n",
              "      </output>\n",
              "      <script>// Copyright 2017 Google LLC\n",
              "//\n",
              "// Licensed under the Apache License, Version 2.0 (the \"License\");\n",
              "// you may not use this file except in compliance with the License.\n",
              "// You may obtain a copy of the License at\n",
              "//\n",
              "//      http://www.apache.org/licenses/LICENSE-2.0\n",
              "//\n",
              "// Unless required by applicable law or agreed to in writing, software\n",
              "// distributed under the License is distributed on an \"AS IS\" BASIS,\n",
              "// WITHOUT WARRANTIES OR CONDITIONS OF ANY KIND, either express or implied.\n",
              "// See the License for the specific language governing permissions and\n",
              "// limitations under the License.\n",
              "\n",
              "/**\n",
              " * @fileoverview Helpers for google.colab Python module.\n",
              " */\n",
              "(function(scope) {\n",
              "function span(text, styleAttributes = {}) {\n",
              "  const element = document.createElement('span');\n",
              "  element.textContent = text;\n",
              "  for (const key of Object.keys(styleAttributes)) {\n",
              "    element.style[key] = styleAttributes[key];\n",
              "  }\n",
              "  return element;\n",
              "}\n",
              "\n",
              "// Max number of bytes which will be uploaded at a time.\n",
              "const MAX_PAYLOAD_SIZE = 100 * 1024;\n",
              "\n",
              "function _uploadFiles(inputId, outputId) {\n",
              "  const steps = uploadFilesStep(inputId, outputId);\n",
              "  const outputElement = document.getElementById(outputId);\n",
              "  // Cache steps on the outputElement to make it available for the next call\n",
              "  // to uploadFilesContinue from Python.\n",
              "  outputElement.steps = steps;\n",
              "\n",
              "  return _uploadFilesContinue(outputId);\n",
              "}\n",
              "\n",
              "// This is roughly an async generator (not supported in the browser yet),\n",
              "// where there are multiple asynchronous steps and the Python side is going\n",
              "// to poll for completion of each step.\n",
              "// This uses a Promise to block the python side on completion of each step,\n",
              "// then passes the result of the previous step as the input to the next step.\n",
              "function _uploadFilesContinue(outputId) {\n",
              "  const outputElement = document.getElementById(outputId);\n",
              "  const steps = outputElement.steps;\n",
              "\n",
              "  const next = steps.next(outputElement.lastPromiseValue);\n",
              "  return Promise.resolve(next.value.promise).then((value) => {\n",
              "    // Cache the last promise value to make it available to the next\n",
              "    // step of the generator.\n",
              "    outputElement.lastPromiseValue = value;\n",
              "    return next.value.response;\n",
              "  });\n",
              "}\n",
              "\n",
              "/**\n",
              " * Generator function which is called between each async step of the upload\n",
              " * process.\n",
              " * @param {string} inputId Element ID of the input file picker element.\n",
              " * @param {string} outputId Element ID of the output display.\n",
              " * @return {!Iterable<!Object>} Iterable of next steps.\n",
              " */\n",
              "function* uploadFilesStep(inputId, outputId) {\n",
              "  const inputElement = document.getElementById(inputId);\n",
              "  inputElement.disabled = false;\n",
              "\n",
              "  const outputElement = document.getElementById(outputId);\n",
              "  outputElement.innerHTML = '';\n",
              "\n",
              "  const pickedPromise = new Promise((resolve) => {\n",
              "    inputElement.addEventListener('change', (e) => {\n",
              "      resolve(e.target.files);\n",
              "    });\n",
              "  });\n",
              "\n",
              "  const cancel = document.createElement('button');\n",
              "  inputElement.parentElement.appendChild(cancel);\n",
              "  cancel.textContent = 'Cancel upload';\n",
              "  const cancelPromise = new Promise((resolve) => {\n",
              "    cancel.onclick = () => {\n",
              "      resolve(null);\n",
              "    };\n",
              "  });\n",
              "\n",
              "  // Wait for the user to pick the files.\n",
              "  const files = yield {\n",
              "    promise: Promise.race([pickedPromise, cancelPromise]),\n",
              "    response: {\n",
              "      action: 'starting',\n",
              "    }\n",
              "  };\n",
              "\n",
              "  cancel.remove();\n",
              "\n",
              "  // Disable the input element since further picks are not allowed.\n",
              "  inputElement.disabled = true;\n",
              "\n",
              "  if (!files) {\n",
              "    return {\n",
              "      response: {\n",
              "        action: 'complete',\n",
              "      }\n",
              "    };\n",
              "  }\n",
              "\n",
              "  for (const file of files) {\n",
              "    const li = document.createElement('li');\n",
              "    li.append(span(file.name, {fontWeight: 'bold'}));\n",
              "    li.append(span(\n",
              "        `(${file.type || 'n/a'}) - ${file.size} bytes, ` +\n",
              "        `last modified: ${\n",
              "            file.lastModifiedDate ? file.lastModifiedDate.toLocaleDateString() :\n",
              "                                    'n/a'} - `));\n",
              "    const percent = span('0% done');\n",
              "    li.appendChild(percent);\n",
              "\n",
              "    outputElement.appendChild(li);\n",
              "\n",
              "    const fileDataPromise = new Promise((resolve) => {\n",
              "      const reader = new FileReader();\n",
              "      reader.onload = (e) => {\n",
              "        resolve(e.target.result);\n",
              "      };\n",
              "      reader.readAsArrayBuffer(file);\n",
              "    });\n",
              "    // Wait for the data to be ready.\n",
              "    let fileData = yield {\n",
              "      promise: fileDataPromise,\n",
              "      response: {\n",
              "        action: 'continue',\n",
              "      }\n",
              "    };\n",
              "\n",
              "    // Use a chunked sending to avoid message size limits. See b/62115660.\n",
              "    let position = 0;\n",
              "    do {\n",
              "      const length = Math.min(fileData.byteLength - position, MAX_PAYLOAD_SIZE);\n",
              "      const chunk = new Uint8Array(fileData, position, length);\n",
              "      position += length;\n",
              "\n",
              "      const base64 = btoa(String.fromCharCode.apply(null, chunk));\n",
              "      yield {\n",
              "        response: {\n",
              "          action: 'append',\n",
              "          file: file.name,\n",
              "          data: base64,\n",
              "        },\n",
              "      };\n",
              "\n",
              "      let percentDone = fileData.byteLength === 0 ?\n",
              "          100 :\n",
              "          Math.round((position / fileData.byteLength) * 100);\n",
              "      percent.textContent = `${percentDone}% done`;\n",
              "\n",
              "    } while (position < fileData.byteLength);\n",
              "  }\n",
              "\n",
              "  // All done.\n",
              "  yield {\n",
              "    response: {\n",
              "      action: 'complete',\n",
              "    }\n",
              "  };\n",
              "}\n",
              "\n",
              "scope.google = scope.google || {};\n",
              "scope.google.colab = scope.google.colab || {};\n",
              "scope.google.colab._files = {\n",
              "  _uploadFiles,\n",
              "  _uploadFilesContinue,\n",
              "};\n",
              "})(self);\n",
              "</script> "
            ],
            "text/plain": [
              "<IPython.core.display.HTML object>"
            ]
          },
          "metadata": {},
          "output_type": "display_data"
        }
      ],
      "source": [
        "from google.colab import files\n",
        "data = files.upload()"
      ]
    },
    {
      "cell_type": "code",
      "execution_count": null,
      "metadata": {
        "id": "7BEjLLLszDjM"
      },
      "outputs": [],
      "source": [
        "loan = pd.read_csv(\"loan.csv\")"
      ]
    },
    {
      "cell_type": "code",
      "execution_count": null,
      "metadata": {
        "id": "shrmuLz8z0pi"
      },
      "outputs": [],
      "source": [
        "Categorical_Cols = ['Gender', 'Income Stability', 'Profession', 'Location', 'Expense Type 1', 'Expense Type 2', 'Has Active Credit Card', 'Property Location']"
      ]
    },
    {
      "cell_type": "code",
      "execution_count": null,
      "metadata": {
        "id": "C5BdYh4lz1NJ"
      },
      "outputs": [],
      "source": [
        "cat_columns = ['Gender', 'Income Stability', 'Profession', 'Location', 'Expense Type 1', 'Expense Type 2', 'Has Active Credit Card', 'Property Location']"
      ]
    },
    {
      "cell_type": "code",
      "execution_count": null,
      "metadata": {
        "colab": {
          "base_uri": "https://localhost:8080/"
        },
        "id": "mUK5j5UEzhuQ",
        "outputId": "6350b3b2-4eca-4a74-c7df-be636869663e"
      },
      "outputs": [
        {
          "name": "stderr",
          "output_type": "stream",
          "text": [
            "<ipython-input-8-d8559b15931a>:13: FutureWarning: The default value of numeric_only in DataFrame.corr is deprecated. In a future version, it will default to False. Select only valid columns or specify the value of numeric_only to silence this warning.\n",
            "  corr_matrix = df.corr()\n"
          ]
        },
        {
          "name": "stdout",
          "output_type": "stream",
          "text": [
            "Mean Squared Error: 626521121.18\n",
            "R-squared: 0.73\n"
          ]
        }
      ],
      "source": [
        "# encoding categorical variables\n",
        "df = pd.get_dummies(loan, columns=['Gender', 'Income Stability', 'Profession', 'Has Active Credit Card', 'Property Location'])\n",
        "encoder = ce.TargetEncoder(cols=['Location', 'Expense Type 1', 'Expense Type 2'])\n",
        "df = encoder.fit_transform(df, y=df['Loan Sanction Amount (USD)'])\n",
        "\n",
        "# feature scaling\n",
        "from sklearn.preprocessing import StandardScaler\n",
        "scaler = StandardScaler()\n",
        "num_cols = ['Age', 'Income (USD)', 'Loan Amount Request (USD)', 'Current Loan Expenses (USD)', 'Credit Score', 'Property Age', 'Property Price']\n",
        "df[num_cols] = scaler.fit_transform(df[num_cols])\n",
        "\n",
        "# feature selection (using correlation analysis)\n",
        "corr_matrix = df.corr()\n",
        "corr_target = abs(corr_matrix['Loan Sanction Amount (USD)'])\n",
        "relevant_features = corr_target[corr_target > 0.1]\n",
        "df = df[relevant_features.index]\n",
        "\n",
        "# split the data into training and test sets\n",
        "X = df.drop(['Loan Sanction Amount (USD)'], axis=1)\n",
        "y = df['Loan Sanction Amount (USD)']\n",
        "X_train, X_test, y_train, y_test = train_test_split(X, y, test_size=0.2, random_state=42)\n",
        "\n",
        "# build the random forest model\n",
        "model = RandomForestRegressor(n_estimators=100, random_state=42)\n",
        "model.fit(X_train, y_train)\n",
        "\n",
        "# evaluate the model\n",
        "y_pred = model.predict(X_test)\n",
        "mse = mean_squared_error(y_test, y_pred)\n",
        "r2 = r2_score(y_test, y_pred)\n",
        "print(f\"Mean Squared Error: {mse:.2f}\")\n",
        "print(f\"R-squared: {r2:.2f}\")\n"
      ]
    },
    {
      "cell_type": "code",
      "execution_count": null,
      "metadata": {
        "colab": {
          "base_uri": "https://localhost:8080/"
        },
        "id": "GlsPzoIZ0hqS",
        "outputId": "e94397f6-ae7b-4e60-b66f-c637728bdd62"
      },
      "outputs": [
        {
          "name": "stderr",
          "output_type": "stream",
          "text": [
            "<ipython-input-11-05b7c1990c85>:13: FutureWarning: The default value of numeric_only in DataFrame.corr is deprecated. In a future version, it will default to False. Select only valid columns or specify the value of numeric_only to silence this warning.\n",
            "  corr_matrix = df.corr()\n"
          ]
        },
        {
          "name": "stdout",
          "output_type": "stream",
          "text": [
            "Results for Random Forest:\n",
            "Mean Squared Error: 626521121.18\n",
            "R-squared: 0.73\n",
            "\n",
            "Results for XGBoost:\n",
            "Mean Squared Error: 624816922.24\n",
            "R-squared: 0.73\n",
            "\n",
            "Results for Gradient Boosting:\n",
            "Mean Squared Error: 590280621.58\n",
            "R-squared: 0.75\n",
            "\n",
            "Results for Logistic Regression:\n",
            "Mean Squared Error: 826783930.34\n",
            "R-squared: 0.64\n",
            "\n"
          ]
        }
      ],
      "source": [
        "# encoding categorical variables\n",
        "df = pd.get_dummies(loan, columns=['Gender', 'Income Stability', 'Profession', 'Has Active Credit Card', 'Property Location'])\n",
        "encoder = ce.TargetEncoder(cols=['Location', 'Expense Type 1', 'Expense Type 2'])\n",
        "df = encoder.fit_transform(df, y=df['Loan Sanction Amount (USD)'])\n",
        "\n",
        "# feature scaling\n",
        "from sklearn.preprocessing import StandardScaler\n",
        "scaler = StandardScaler()\n",
        "num_cols = ['Age', 'Income (USD)', 'Loan Amount Request (USD)', 'Current Loan Expenses (USD)', 'Credit Score', 'Property Age', 'Property Price']\n",
        "df[num_cols] = scaler.fit_transform(df[num_cols])\n",
        "\n",
        "# feature selection (using correlation analysis)\n",
        "corr_matrix = df.corr()\n",
        "corr_target = abs(corr_matrix['Loan Sanction Amount (USD)'])\n",
        "relevant_features = corr_target[corr_target > 0.1]\n",
        "df = df[relevant_features.index]\n",
        "\n",
        "# split the data into training and test sets\n",
        "X = df.drop(['Loan Sanction Amount (USD)'], axis=1)\n",
        "y = df['Loan Sanction Amount (USD)']\n",
        "X_train, X_test, y_train, y_test = train_test_split(X, y, test_size=0.2, random_state=42)\n",
        "\n",
        "# build the random forest model\n",
        "rf_model = RandomForestRegressor(n_estimators=100, random_state=42)\n",
        "rf_model.fit(X_train, y_train)\n",
        "\n",
        "# build the XGBoost model\n",
        "xgb_model = XGBRegressor(n_estimators=100, random_state=42)\n",
        "xgb_model.fit(X_train, y_train)\n",
        "\n",
        "# build the Gradient Boosting model\n",
        "gb_model = GradientBoostingRegressor(n_estimators=100, random_state=42)\n",
        "gb_model.fit(X_train, y_train)\n",
        "\n",
        "# build the Linear Regression model\n",
        "lr_model = LinearRegression()\n",
        "lr_model.fit(X_train, y_train)\n",
        "\n",
        "# evaluate the models\n",
        "models = {'Random Forest': rf_model, 'XGBoost': xgb_model, 'Gradient Boosting': gb_model, 'Logistic Regression': lr_model}\n",
        "for model_name, model in models.items():\n",
        "    y_pred = model.predict(X_test)\n",
        "    mse = mean_squared_error(y_test, y_pred)\n",
        "    r2 = r2_score(y_test, y_pred)\n",
        "    print(f\"Results for {model_name}:\")\n",
        "    print(f\"Mean Squared Error: {mse:.2f}\")\n",
        "    print(f\"R-squared: {r2:.2f}\")\n",
        "    print()\n"
      ]
    },
    {
      "cell_type": "code",
      "execution_count": null,
      "metadata": {
        "id": "0Z2hkD7t2oh0"
      },
      "outputs": [],
      "source": [
        "loan = loan.drop('Customer ID', axis=1)\n",
        "loan = loan.drop('Name', axis=1)"
      ]
    },
    {
      "cell_type": "code",
      "execution_count": null,
      "metadata": {
        "colab": {
          "base_uri": "https://localhost:8080/"
        },
        "id": "aL1GIdvV2T7K",
        "outputId": "fb93a88b-7e1b-4653-eeb7-387f276ed45e"
      },
      "outputs": [
        {
          "name": "stdout",
          "output_type": "stream",
          "text": [
            "Random Forest Accuracy:  0.7642543764690861\n",
            "XGBoost Accuracy:  0.7664440797728723\n",
            "Gradient Boosting Accuracy:  0.7659091768697691\n",
            "Linear Regression Accuracy:  0.6460886319948\n"
          ]
        }
      ],
      "source": [
        "# Split data into features and target\n",
        "X = loan.drop('Loan Sanction Amount (USD)', axis=1)\n",
        "y = loan['Loan Sanction Amount (USD)']\n",
        "\n",
        "# Encode categorical features\n",
        "cat_cols = ['Gender', 'Income Stability', 'Profession', 'Location', 'Expense Type 1', 'Expense Type 2', 'Has Active Credit Card', 'Property Location']\n",
        "for col in cat_cols:\n",
        "    le = LabelEncoder()\n",
        "    X[col] = le.fit_transform(X[col])\n",
        "\n",
        "# Split data into train and test sets\n",
        "X_train, X_test, y_train, y_test = train_test_split(X, y, test_size=0.2, random_state=42)\n",
        "\n",
        "# Train random forest model\n",
        "rf_model = RandomForestRegressor(n_estimators=100)\n",
        "rf_model.fit(X_train, y_train)\n",
        "rf_acc = rf_model.score(X_test, y_test)\n",
        "\n",
        "# Train XGBoost model\n",
        "xgb_model = XGBRegressor(n_estimators=100)\n",
        "xgb_model.fit(X_train, y_train)\n",
        "xgb_acc = xgb_model.score(X_test, y_test)\n",
        "\n",
        "# Train gradient boosting model\n",
        "gb_model = GradientBoostingRegressor(n_estimators=100)\n",
        "gb_model.fit(X_train, y_train)\n",
        "gb_acc = gb_model.score(X_test, y_test)\n",
        "\n",
        "# Train linear regression model\n",
        "lr_model = LinearRegression()\n",
        "lr_model.fit(X_train, y_train)\n",
        "lr_acc = lr_model.score(X_test, y_test)\n",
        "\n",
        "# Print model accuracies\n",
        "print('Random Forest Accuracy: ', rf_acc)\n",
        "print('XGBoost Accuracy: ', xgb_acc)\n",
        "print('Gradient Boosting Accuracy: ', gb_acc)\n",
        "print('Linear Regression Accuracy: ', lr_acc)\n"
      ]
    },
    {
      "cell_type": "code",
      "execution_count": null,
      "metadata": {
        "colab": {
          "base_uri": "https://localhost:8080/",
          "height": 438
        },
        "id": "kaawiiEJ5OnZ",
        "outputId": "21578132-8334-470d-d56a-28eab0e6eddf"
      },
      "outputs": [
        {
          "data": {
            "text/html": [
              "\n",
              "  <div id=\"df-a6408b0f-52ac-4ec3-b95f-eed6132c731c\">\n",
              "    <div class=\"colab-df-container\">\n",
              "      <div>\n",
              "<style scoped>\n",
              "    .dataframe tbody tr th:only-of-type {\n",
              "        vertical-align: middle;\n",
              "    }\n",
              "\n",
              "    .dataframe tbody tr th {\n",
              "        vertical-align: top;\n",
              "    }\n",
              "\n",
              "    .dataframe thead th {\n",
              "        text-align: right;\n",
              "    }\n",
              "</style>\n",
              "<table border=\"1\" class=\"dataframe\">\n",
              "  <thead>\n",
              "    <tr style=\"text-align: right;\">\n",
              "      <th></th>\n",
              "      <th>Unnamed: 0</th>\n",
              "      <th>Gender</th>\n",
              "      <th>Age</th>\n",
              "      <th>Income (USD)</th>\n",
              "      <th>Income Stability</th>\n",
              "      <th>Profession</th>\n",
              "      <th>Location</th>\n",
              "      <th>Loan Amount Request (USD)</th>\n",
              "      <th>Current Loan Expenses (USD)</th>\n",
              "      <th>Expense Type 1</th>\n",
              "      <th>...</th>\n",
              "      <th>Credit Score</th>\n",
              "      <th>No. of Defaults</th>\n",
              "      <th>Has Active Credit Card</th>\n",
              "      <th>Property ID</th>\n",
              "      <th>Property Age</th>\n",
              "      <th>Property Type</th>\n",
              "      <th>Property Location</th>\n",
              "      <th>Co-Applicant</th>\n",
              "      <th>Property Price</th>\n",
              "      <th>Loan Sanction Amount (USD)</th>\n",
              "    </tr>\n",
              "  </thead>\n",
              "  <tbody>\n",
              "    <tr>\n",
              "      <th>0</th>\n",
              "      <td>0</td>\n",
              "      <td>F</td>\n",
              "      <td>56</td>\n",
              "      <td>1933.05</td>\n",
              "      <td>Low</td>\n",
              "      <td>Working</td>\n",
              "      <td>Semi-Urban</td>\n",
              "      <td>72809.58</td>\n",
              "      <td>241.08</td>\n",
              "      <td>N</td>\n",
              "      <td>...</td>\n",
              "      <td>809.44</td>\n",
              "      <td>0</td>\n",
              "      <td>Unknown</td>\n",
              "      <td>746</td>\n",
              "      <td>1933.05</td>\n",
              "      <td>4</td>\n",
              "      <td>Rural</td>\n",
              "      <td>1</td>\n",
              "      <td>119933.46</td>\n",
              "      <td>54607.18</td>\n",
              "    </tr>\n",
              "    <tr>\n",
              "      <th>1</th>\n",
              "      <td>1</td>\n",
              "      <td>M</td>\n",
              "      <td>32</td>\n",
              "      <td>4952.91</td>\n",
              "      <td>Low</td>\n",
              "      <td>Working</td>\n",
              "      <td>Semi-Urban</td>\n",
              "      <td>46837.47</td>\n",
              "      <td>495.81</td>\n",
              "      <td>N</td>\n",
              "      <td>...</td>\n",
              "      <td>780.40</td>\n",
              "      <td>0</td>\n",
              "      <td>Unpossessed</td>\n",
              "      <td>608</td>\n",
              "      <td>4952.91</td>\n",
              "      <td>2</td>\n",
              "      <td>Rural</td>\n",
              "      <td>1</td>\n",
              "      <td>54791.00</td>\n",
              "      <td>37469.98</td>\n",
              "    </tr>\n",
              "    <tr>\n",
              "      <th>2</th>\n",
              "      <td>2</td>\n",
              "      <td>F</td>\n",
              "      <td>65</td>\n",
              "      <td>988.19</td>\n",
              "      <td>High</td>\n",
              "      <td>Pensioner</td>\n",
              "      <td>Semi-Urban</td>\n",
              "      <td>45593.04</td>\n",
              "      <td>171.95</td>\n",
              "      <td>N</td>\n",
              "      <td>...</td>\n",
              "      <td>833.15</td>\n",
              "      <td>0</td>\n",
              "      <td>Unpossessed</td>\n",
              "      <td>546</td>\n",
              "      <td>988.19</td>\n",
              "      <td>2</td>\n",
              "      <td>Urban</td>\n",
              "      <td>0</td>\n",
              "      <td>72440.58</td>\n",
              "      <td>36474.43</td>\n",
              "    </tr>\n",
              "    <tr>\n",
              "      <th>3</th>\n",
              "      <td>3</td>\n",
              "      <td>F</td>\n",
              "      <td>65</td>\n",
              "      <td>1813.84</td>\n",
              "      <td>High</td>\n",
              "      <td>Pensioner</td>\n",
              "      <td>Rural</td>\n",
              "      <td>80057.92</td>\n",
              "      <td>298.54</td>\n",
              "      <td>N</td>\n",
              "      <td>...</td>\n",
              "      <td>832.70</td>\n",
              "      <td>1</td>\n",
              "      <td>Unpossessed</td>\n",
              "      <td>890</td>\n",
              "      <td>2222.37</td>\n",
              "      <td>2</td>\n",
              "      <td>Semi-Urban</td>\n",
              "      <td>1</td>\n",
              "      <td>121441.51</td>\n",
              "      <td>56040.54</td>\n",
              "    </tr>\n",
              "    <tr>\n",
              "      <th>4</th>\n",
              "      <td>4</td>\n",
              "      <td>F</td>\n",
              "      <td>31</td>\n",
              "      <td>2614.77</td>\n",
              "      <td>Low</td>\n",
              "      <td>Working</td>\n",
              "      <td>Semi-Urban</td>\n",
              "      <td>113858.89</td>\n",
              "      <td>491.41</td>\n",
              "      <td>N</td>\n",
              "      <td>...</td>\n",
              "      <td>745.55</td>\n",
              "      <td>1</td>\n",
              "      <td>Active</td>\n",
              "      <td>715</td>\n",
              "      <td>2614.77</td>\n",
              "      <td>4</td>\n",
              "      <td>Semi-Urban</td>\n",
              "      <td>1</td>\n",
              "      <td>208567.91</td>\n",
              "      <td>74008.28</td>\n",
              "    </tr>\n",
              "  </tbody>\n",
              "</table>\n",
              "<p>5 rows × 22 columns</p>\n",
              "</div>\n",
              "      <button class=\"colab-df-convert\" onclick=\"convertToInteractive('df-a6408b0f-52ac-4ec3-b95f-eed6132c731c')\"\n",
              "              title=\"Convert this dataframe to an interactive table.\"\n",
              "              style=\"display:none;\">\n",
              "        \n",
              "  <svg xmlns=\"http://www.w3.org/2000/svg\" height=\"24px\"viewBox=\"0 0 24 24\"\n",
              "       width=\"24px\">\n",
              "    <path d=\"M0 0h24v24H0V0z\" fill=\"none\"/>\n",
              "    <path d=\"M18.56 5.44l.94 2.06.94-2.06 2.06-.94-2.06-.94-.94-2.06-.94 2.06-2.06.94zm-11 1L8.5 8.5l.94-2.06 2.06-.94-2.06-.94L8.5 2.5l-.94 2.06-2.06.94zm10 10l.94 2.06.94-2.06 2.06-.94-2.06-.94-.94-2.06-.94 2.06-2.06.94z\"/><path d=\"M17.41 7.96l-1.37-1.37c-.4-.4-.92-.59-1.43-.59-.52 0-1.04.2-1.43.59L10.3 9.45l-7.72 7.72c-.78.78-.78 2.05 0 2.83L4 21.41c.39.39.9.59 1.41.59.51 0 1.02-.2 1.41-.59l7.78-7.78 2.81-2.81c.8-.78.8-2.07 0-2.86zM5.41 20L4 18.59l7.72-7.72 1.47 1.35L5.41 20z\"/>\n",
              "  </svg>\n",
              "      </button>\n",
              "      \n",
              "  <style>\n",
              "    .colab-df-container {\n",
              "      display:flex;\n",
              "      flex-wrap:wrap;\n",
              "      gap: 12px;\n",
              "    }\n",
              "\n",
              "    .colab-df-convert {\n",
              "      background-color: #E8F0FE;\n",
              "      border: none;\n",
              "      border-radius: 50%;\n",
              "      cursor: pointer;\n",
              "      display: none;\n",
              "      fill: #1967D2;\n",
              "      height: 32px;\n",
              "      padding: 0 0 0 0;\n",
              "      width: 32px;\n",
              "    }\n",
              "\n",
              "    .colab-df-convert:hover {\n",
              "      background-color: #E2EBFA;\n",
              "      box-shadow: 0px 1px 2px rgba(60, 64, 67, 0.3), 0px 1px 3px 1px rgba(60, 64, 67, 0.15);\n",
              "      fill: #174EA6;\n",
              "    }\n",
              "\n",
              "    [theme=dark] .colab-df-convert {\n",
              "      background-color: #3B4455;\n",
              "      fill: #D2E3FC;\n",
              "    }\n",
              "\n",
              "    [theme=dark] .colab-df-convert:hover {\n",
              "      background-color: #434B5C;\n",
              "      box-shadow: 0px 1px 3px 1px rgba(0, 0, 0, 0.15);\n",
              "      filter: drop-shadow(0px 1px 2px rgba(0, 0, 0, 0.3));\n",
              "      fill: #FFFFFF;\n",
              "    }\n",
              "  </style>\n",
              "\n",
              "      <script>\n",
              "        const buttonEl =\n",
              "          document.querySelector('#df-a6408b0f-52ac-4ec3-b95f-eed6132c731c button.colab-df-convert');\n",
              "        buttonEl.style.display =\n",
              "          google.colab.kernel.accessAllowed ? 'block' : 'none';\n",
              "\n",
              "        async function convertToInteractive(key) {\n",
              "          const element = document.querySelector('#df-a6408b0f-52ac-4ec3-b95f-eed6132c731c');\n",
              "          const dataTable =\n",
              "            await google.colab.kernel.invokeFunction('convertToInteractive',\n",
              "                                                     [key], {});\n",
              "          if (!dataTable) return;\n",
              "\n",
              "          const docLinkHtml = 'Like what you see? Visit the ' +\n",
              "            '<a target=\"_blank\" href=https://colab.research.google.com/notebooks/data_table.ipynb>data table notebook</a>'\n",
              "            + ' to learn more about interactive tables.';\n",
              "          element.innerHTML = '';\n",
              "          dataTable['output_type'] = 'display_data';\n",
              "          await google.colab.output.renderOutput(dataTable, element);\n",
              "          const docLink = document.createElement('div');\n",
              "          docLink.innerHTML = docLinkHtml;\n",
              "          element.appendChild(docLink);\n",
              "        }\n",
              "      </script>\n",
              "    </div>\n",
              "  </div>\n",
              "  "
            ],
            "text/plain": [
              "   Unnamed: 0 Gender  Age  Income (USD) Income Stability Profession  \\\n",
              "0           0      F   56       1933.05              Low    Working   \n",
              "1           1      M   32       4952.91              Low    Working   \n",
              "2           2      F   65        988.19             High  Pensioner   \n",
              "3           3      F   65       1813.84             High  Pensioner   \n",
              "4           4      F   31       2614.77              Low    Working   \n",
              "\n",
              "     Location  Loan Amount Request (USD)  Current Loan Expenses (USD)  \\\n",
              "0  Semi-Urban                   72809.58                       241.08   \n",
              "1  Semi-Urban                   46837.47                       495.81   \n",
              "2  Semi-Urban                   45593.04                       171.95   \n",
              "3       Rural                   80057.92                       298.54   \n",
              "4  Semi-Urban                  113858.89                       491.41   \n",
              "\n",
              "  Expense Type 1  ... Credit Score  No. of Defaults  Has Active Credit Card  \\\n",
              "0              N  ...       809.44                0                 Unknown   \n",
              "1              N  ...       780.40                0             Unpossessed   \n",
              "2              N  ...       833.15                0             Unpossessed   \n",
              "3              N  ...       832.70                1             Unpossessed   \n",
              "4              N  ...       745.55                1                  Active   \n",
              "\n",
              "   Property ID Property Age  Property Type  Property Location  Co-Applicant  \\\n",
              "0          746      1933.05              4              Rural             1   \n",
              "1          608      4952.91              2              Rural             1   \n",
              "2          546       988.19              2              Urban             0   \n",
              "3          890      2222.37              2         Semi-Urban             1   \n",
              "4          715      2614.77              4         Semi-Urban             1   \n",
              "\n",
              "  Property Price  Loan Sanction Amount (USD)  \n",
              "0      119933.46                    54607.18  \n",
              "1       54791.00                    37469.98  \n",
              "2       72440.58                    36474.43  \n",
              "3      121441.51                    56040.54  \n",
              "4      208567.91                    74008.28  \n",
              "\n",
              "[5 rows x 22 columns]"
            ]
          },
          "execution_count": 12,
          "metadata": {},
          "output_type": "execute_result"
        }
      ],
      "source": [
        "loan.head()"
      ]
    },
    {
      "cell_type": "code",
      "execution_count": null,
      "metadata": {
        "id": "3Sz_gn0T3JPB"
      },
      "outputs": [],
      "source": [
        "data = loan.copy()"
      ]
    },
    {
      "cell_type": "code",
      "execution_count": null,
      "metadata": {
        "colab": {
          "base_uri": "https://localhost:8080/"
        },
        "id": "6jYeaHfc5GMg",
        "outputId": "4cdeeae9-7e60-4e62-d824-7d7ba93ebc12"
      },
      "outputs": [
        {
          "name": "stdout",
          "output_type": "stream",
          "text": [
            "(28674, 62)\n"
          ]
        }
      ],
      "source": [
        "import pandas as pd\n",
        "\n",
        "\n",
        "# Select the categorical columns to be encoded\n",
        "cat_cols = ['Gender', 'Income Stability', 'Profession', 'Location', 'Expense Type 1', 'Expense Type 2', 'Has Active Credit Card', 'Property Location']\n",
        "\n",
        "# Use one-hot encoding to encode the categorical columns\n",
        "encoded_data = pd.get_dummies(data, columns=cat_cols)\n",
        "\n",
        "# Merge the encoded data with the original data\n",
        "merged_data = pd.concat([data, encoded_data], axis=1)\n",
        "\n",
        "# Print the shape of the merged data\n",
        "print(merged_data.shape)"
      ]
    },
    {
      "cell_type": "code",
      "execution_count": null,
      "metadata": {
        "colab": {
          "base_uri": "https://localhost:8080/"
        },
        "id": "juIf-4yY55Q3",
        "outputId": "94ac5cf9-7614-4dca-f1c5-79d191480ecb"
      },
      "outputs": [
        {
          "name": "stdout",
          "output_type": "stream",
          "text": [
            "Random Forest Accuracy:  0.7661672458774446\n",
            "XGBoost Accuracy:  0.7647714565386932\n",
            "Gradient Boosting Accuracy:  0.7656644653986266\n",
            "Linear Regression Accuracy:  0.6460786894884569\n"
          ]
        }
      ],
      "source": [
        "# Split data into features and target\n",
        "X = encoded_data.drop('Loan Sanction Amount (USD)', axis=1)\n",
        "y = encoded_data['Loan Sanction Amount (USD)']\n",
        "\n",
        "# Split data into train and test sets\n",
        "X_train, X_test, y_train, y_test = train_test_split(X, y, test_size=0.2, random_state=42)\n",
        "\n",
        "# Train random forest model\n",
        "rf_model = RandomForestRegressor(n_estimators=100)\n",
        "rf_model.fit(X_train, y_train)\n",
        "rf_acc = rf_model.score(X_test, y_test)\n",
        "\n",
        "# Train XGBoost model\n",
        "xgb_model = XGBRegressor(n_estimators=100)\n",
        "xgb_model.fit(X_train, y_train)\n",
        "xgb_acc = xgb_model.score(X_test, y_test)\n",
        "\n",
        "# Train gradient boosting model\n",
        "gb_model = GradientBoostingRegressor(n_estimators=100)\n",
        "gb_model.fit(X_train, y_train)\n",
        "gb_acc = gb_model.score(X_test, y_test)\n",
        "\n",
        "# Train linear regression model\n",
        "lr_model = LinearRegression()\n",
        "lr_model.fit(X_train, y_train)\n",
        "lr_acc = lr_model.score(X_test, y_test)\n",
        "\n",
        "# Print model accuracies\n",
        "print('Random Forest Accuracy: ', rf_acc)\n",
        "print('XGBoost Accuracy: ', xgb_acc)\n",
        "print('Gradient Boosting Accuracy: ', gb_acc)\n",
        "print('Linear Regression Accuracy: ', lr_acc)\n"
      ]
    },
    {
      "cell_type": "code",
      "execution_count": null,
      "metadata": {
        "colab": {
          "base_uri": "https://localhost:8080/"
        },
        "id": "W8oCqLsv8Nq3",
        "outputId": "545d5f55-a0c4-4647-9f36-35e69752d3ce"
      },
      "outputs": [
        {
          "name": "stdout",
          "output_type": "stream",
          "text": [
            "Random Forest Accuracy:  0.7677275511957014\n",
            "XGBoost Accuracy:  0.7735067286142192\n",
            "Gradient Boosting Accuracy:  0.7731421425838305\n",
            "Linear Regression Accuracy:  0.6508105908487869\n"
          ]
        }
      ],
      "source": [
        "# Split data into features and target\n",
        "X = encoded_data.drop('Loan Sanction Amount (USD)', axis=1)\n",
        "y = encoded_data['Loan Sanction Amount (USD)']\n",
        "\n",
        "# Split data into train and test sets\n",
        "X_train, X_test, y_train, y_test = train_test_split(X, y, test_size=0.3, random_state=42)\n",
        "\n",
        "# Train random forest model\n",
        "rf_model = RandomForestRegressor(n_estimators=100)\n",
        "rf_model.fit(X_train, y_train)\n",
        "rf_acc = rf_model.score(X_test, y_test)\n",
        "\n",
        "# Train XGBoost model\n",
        "xgb_model = XGBRegressor(n_estimators=100)\n",
        "xgb_model.fit(X_train, y_train)\n",
        "xgb_acc = xgb_model.score(X_test, y_test)\n",
        "\n",
        "# Train gradient boosting model\n",
        "gb_model = GradientBoostingRegressor(n_estimators=100)\n",
        "gb_model.fit(X_train, y_train)\n",
        "gb_acc = gb_model.score(X_test, y_test)\n",
        "\n",
        "# Train linear regression model\n",
        "lr_model = LinearRegression()\n",
        "lr_model.fit(X_train, y_train)\n",
        "lr_acc = lr_model.score(X_test, y_test)\n",
        "\n",
        "# Print model accuracies\n",
        "print('Random Forest Accuracy: ', rf_acc)\n",
        "print('XGBoost Accuracy: ', xgb_acc)\n",
        "print('Gradient Boosting Accuracy: ', gb_acc)\n",
        "print('Linear Regression Accuracy: ', lr_acc)\n"
      ]
    },
    {
      "cell_type": "code",
      "execution_count": null,
      "metadata": {
        "colab": {
          "base_uri": "https://localhost:8080/"
        },
        "id": "mqeaJyAYBNLS",
        "outputId": "e91b6be0-8b2f-4537-ad13-aa7f03111814"
      },
      "outputs": [
        {
          "name": "stdout",
          "output_type": "stream",
          "text": [
            "<class 'pandas.core.frame.DataFrame'>\n",
            "RangeIndex: 28674 entries, 0 to 28673\n",
            "Data columns (total 40 columns):\n",
            " #   Column                              Non-Null Count  Dtype  \n",
            "---  ------                              --------------  -----  \n",
            " 0   Unnamed: 0                          28674 non-null  int64  \n",
            " 1   Age                                 28674 non-null  int64  \n",
            " 2   Income (USD)                        28674 non-null  float64\n",
            " 3   Loan Amount Request (USD)           28674 non-null  float64\n",
            " 4   Current Loan Expenses (USD)         28674 non-null  float64\n",
            " 5   Dependents                          28674 non-null  float64\n",
            " 6   Credit Score                        28674 non-null  float64\n",
            " 7   No. of Defaults                     28674 non-null  int64  \n",
            " 8   Property ID                         28674 non-null  int64  \n",
            " 9   Property Age                        28674 non-null  float64\n",
            " 10  Property Type                       28674 non-null  int64  \n",
            " 11  Co-Applicant                        28674 non-null  int64  \n",
            " 12  Property Price                      28674 non-null  float64\n",
            " 13  Gender_F                            28674 non-null  uint8  \n",
            " 14  Gender_M                            28674 non-null  uint8  \n",
            " 15  Income Stability_High               28674 non-null  uint8  \n",
            " 16  Income Stability_Low                28674 non-null  uint8  \n",
            " 17  Profession_Businessman              28674 non-null  uint8  \n",
            " 18  Profession_Commercial associate     28674 non-null  uint8  \n",
            " 19  Profession_Maternity leave          28674 non-null  uint8  \n",
            " 20  Profession_Pensioner                28674 non-null  uint8  \n",
            " 21  Profession_State servant            28674 non-null  uint8  \n",
            " 22  Profession_Student                  28674 non-null  uint8  \n",
            " 23  Profession_Unemployed               28674 non-null  uint8  \n",
            " 24  Profession_Working                  28674 non-null  uint8  \n",
            " 25  Location_Rural                      28674 non-null  uint8  \n",
            " 26  Location_Semi-Urban                 28674 non-null  uint8  \n",
            " 27  Location_Urban                      28674 non-null  uint8  \n",
            " 28  Expense Type 1_N                    28674 non-null  uint8  \n",
            " 29  Expense Type 1_Y                    28674 non-null  uint8  \n",
            " 30  Expense Type 2_N                    28674 non-null  uint8  \n",
            " 31  Expense Type 2_Y                    28674 non-null  uint8  \n",
            " 32  Has Active Credit Card_Active       28674 non-null  uint8  \n",
            " 33  Has Active Credit Card_Inactive     28674 non-null  uint8  \n",
            " 34  Has Active Credit Card_Unknown      28674 non-null  uint8  \n",
            " 35  Has Active Credit Card_Unpossessed  28674 non-null  uint8  \n",
            " 36  Property Location_Rural             28674 non-null  uint8  \n",
            " 37  Property Location_Semi-Urban        28674 non-null  uint8  \n",
            " 38  Property Location_Urban             28674 non-null  uint8  \n",
            " 39  Loan_Approved                       28674 non-null  int64  \n",
            "dtypes: float64(7), int64(7), uint8(26)\n",
            "memory usage: 3.8 MB\n"
          ]
        }
      ],
      "source": [
        "encoded_data.info()"
      ]
    },
    {
      "cell_type": "code",
      "execution_count": null,
      "metadata": {
        "id": "uUFwf8-mCYtE"
      },
      "outputs": [],
      "source": [
        "data_encode = encoded_data.copy()"
      ]
    },
    {
      "cell_type": "code",
      "execution_count": null,
      "metadata": {
        "id": "0JkhLJ7eCUn0"
      },
      "outputs": [],
      "source": [
        "col_to_log = ['Income (USD)', 'Loan Amount Request (USD)', 'Current Loan Expenses (USD)', 'Property Price']"
      ]
    },
    {
      "cell_type": "code",
      "execution_count": null,
      "metadata": {
        "id": "qW5NeGdYCOs9"
      },
      "outputs": [],
      "source": [
        "for col in col_to_log:\n",
        "    data_encode[col] = np.log(data_encode[col])"
      ]
    },
    {
      "cell_type": "code",
      "execution_count": null,
      "metadata": {
        "colab": {
          "base_uri": "https://localhost:8080/"
        },
        "id": "wiaEMXz0OUXH",
        "outputId": "e556bd57-7cef-415e-debd-484f64e83f74"
      },
      "outputs": [
        {
          "name": "stdout",
          "output_type": "stream",
          "text": [
            "<class 'pandas.core.frame.DataFrame'>\n",
            "RangeIndex: 28674 entries, 0 to 28673\n",
            "Data columns (total 40 columns):\n",
            " #   Column                              Non-Null Count  Dtype  \n",
            "---  ------                              --------------  -----  \n",
            " 0   Unnamed: 0                          28674 non-null  int64  \n",
            " 1   Age                                 28674 non-null  int64  \n",
            " 2   Income (USD)                        28674 non-null  float64\n",
            " 3   Loan Amount Request (USD)           28674 non-null  float64\n",
            " 4   Current Loan Expenses (USD)         28674 non-null  float64\n",
            " 5   Dependents                          28674 non-null  float64\n",
            " 6   Credit Score                        28674 non-null  float64\n",
            " 7   No. of Defaults                     28674 non-null  int64  \n",
            " 8   Property ID                         28674 non-null  int64  \n",
            " 9   Property Age                        28674 non-null  float64\n",
            " 10  Property Type                       28674 non-null  int64  \n",
            " 11  Co-Applicant                        28674 non-null  int64  \n",
            " 12  Property Price                      28674 non-null  float64\n",
            " 13  Loan Sanction Amount (USD)          28674 non-null  float64\n",
            " 14  Gender_F                            28674 non-null  uint8  \n",
            " 15  Gender_M                            28674 non-null  uint8  \n",
            " 16  Income Stability_High               28674 non-null  uint8  \n",
            " 17  Income Stability_Low                28674 non-null  uint8  \n",
            " 18  Profession_Businessman              28674 non-null  uint8  \n",
            " 19  Profession_Commercial associate     28674 non-null  uint8  \n",
            " 20  Profession_Maternity leave          28674 non-null  uint8  \n",
            " 21  Profession_Pensioner                28674 non-null  uint8  \n",
            " 22  Profession_State servant            28674 non-null  uint8  \n",
            " 23  Profession_Student                  28674 non-null  uint8  \n",
            " 24  Profession_Unemployed               28674 non-null  uint8  \n",
            " 25  Profession_Working                  28674 non-null  uint8  \n",
            " 26  Location_Rural                      28674 non-null  uint8  \n",
            " 27  Location_Semi-Urban                 28674 non-null  uint8  \n",
            " 28  Location_Urban                      28674 non-null  uint8  \n",
            " 29  Expense Type 1_N                    28674 non-null  uint8  \n",
            " 30  Expense Type 1_Y                    28674 non-null  uint8  \n",
            " 31  Expense Type 2_N                    28674 non-null  uint8  \n",
            " 32  Expense Type 2_Y                    28674 non-null  uint8  \n",
            " 33  Has Active Credit Card_Active       28674 non-null  uint8  \n",
            " 34  Has Active Credit Card_Inactive     28674 non-null  uint8  \n",
            " 35  Has Active Credit Card_Unknown      28674 non-null  uint8  \n",
            " 36  Has Active Credit Card_Unpossessed  28674 non-null  uint8  \n",
            " 37  Property Location_Rural             28674 non-null  uint8  \n",
            " 38  Property Location_Semi-Urban        28674 non-null  uint8  \n",
            " 39  Property Location_Urban             28674 non-null  uint8  \n",
            "dtypes: float64(8), int64(6), uint8(26)\n",
            "memory usage: 3.8 MB\n"
          ]
        }
      ],
      "source": [
        "data_encode.info()"
      ]
    },
    {
      "cell_type": "code",
      "execution_count": null,
      "metadata": {
        "colab": {
          "base_uri": "https://localhost:8080/"
        },
        "id": "inbeWT_LlYFv",
        "outputId": "fd5e0a62-df3c-4cef-af5c-52150c32ddf6"
      },
      "outputs": [
        {
          "name": "stdout",
          "output_type": "stream",
          "text": [
            "RMSE: 32031.03149587768\n"
          ]
        }
      ],
      "source": [
        "from sklearn.model_selection import train_test_split\n",
        "from sklearn.linear_model import LinearRegression\n",
        "from sklearn.metrics import mean_squared_error\n",
        "\n",
        "# Separate the features and target variable\n",
        "X = data_encode.drop(['Loan Sanction Amount (USD)'], axis=1)\n",
        "y = data_encode['Loan Sanction Amount (USD)']\n",
        "\n",
        "# Split data into training and testing sets\n",
        "X_train, X_test, y_train, y_test = train_test_split(X, y, test_size=0.2, random_state=42)\n",
        "\n",
        "# Create a linear regression model object\n",
        "model = LinearRegression()\n",
        "\n",
        "# Fit the model on the training set\n",
        "model.fit(X_train, y_train)\n",
        "\n",
        "# Predict on the testing set\n",
        "y_pred = model.predict(X_test)\n",
        "\n",
        "# Evaluate the model's performance\n",
        "mse = mean_squared_error(y_test, y_pred)\n",
        "rmse = np.sqrt(mse)\n",
        "\n",
        "# Print the model's performance metrics\n",
        "print(\"RMSE:\", rmse)\n"
      ]
    },
    {
      "cell_type": "code",
      "execution_count": null,
      "metadata": {
        "id": "RqS3aVms9D3X"
      },
      "outputs": [],
      "source": [
        "num_encode = encoded_data.copy()"
      ]
    },
    {
      "cell_type": "code",
      "execution_count": null,
      "metadata": {
        "id": "ChkyWqHaF31k"
      },
      "outputs": [],
      "source": [
        "cols_to_drop_reg = [\"Property Price\", 'No. of Defaults', 'Property Type']"
      ]
    },
    {
      "cell_type": "code",
      "execution_count": null,
      "metadata": {
        "id": "jSmArkDCGD0d"
      },
      "outputs": [],
      "source": [
        "num_code = num_encode.drop(cols_to_drop_reg, axis=1)"
      ]
    },
    {
      "cell_type": "code",
      "execution_count": null,
      "metadata": {
        "colab": {
          "base_uri": "https://localhost:8080/"
        },
        "id": "VrejoRecDYTO",
        "outputId": "574a0b4e-3c03-40c9-e06c-f46fc5f734aa"
      },
      "outputs": [
        {
          "name": "stdout",
          "output_type": "stream",
          "text": [
            "Accuracy: 0.7260680034873583\n",
            "Confusion matrix:\n",
            " [[   0 1571]\n",
            " [   0 4164]]\n"
          ]
        }
      ],
      "source": [
        "from sklearn.preprocessing import MinMaxScaler\n",
        "\n",
        "# Separate the numerical and categorical features\n",
        "numerical_features = ['Income (USD)', 'Loan Amount Request (USD)', 'Current Loan Expenses (USD)', 'Credit Score']\n",
        "categorical_features = ['Gender', 'Income Stability', 'Profession', 'Type of Employment', 'Location', 'Expense Type 1', 'Expense Type 2', 'Has Active Credit Card', 'Property Location']\n",
        "\n",
        "# Apply min-max scaling to the numerical features\n",
        "scaler = MinMaxScaler()\n",
        "num_encode[numerical_features] = scaler.fit_transform(data[numerical_features])\n",
        "\n",
        "# Separate the features and target variable\n",
        "X = num_encode.drop(['Loan_Approved'], axis=1)\n",
        "y = num_encode['Loan_Approved']\n",
        "\n",
        "# Split the data into training and testing sets\n",
        "X_train, X_test, y_train, y_test = train_test_split(X, y, test_size=0.2, random_state=42)\n",
        "\n",
        "model = LogisticRegression()\n",
        "\n",
        "# Fit the model on the training set\n",
        "model.fit(X_train, y_train)\n",
        "\n",
        "# Predict on the testing set\n",
        "y_pred = model.predict(X_test)\n",
        "\n",
        "# Evaluate the model's performance\n",
        "accuracy = accuracy_score(y_test, y_pred)\n",
        "conf_matrix = confusion_matrix(y_test, y_pred)\n",
        "\n",
        "# Print the model's performance metrics\n",
        "print(\"Accuracy:\", accuracy)\n",
        "print(\"Confusion matrix:\\n\", conf_matrix)"
      ]
    },
    {
      "cell_type": "code",
      "execution_count": null,
      "metadata": {
        "colab": {
          "base_uri": "https://localhost:8080/"
        },
        "id": "2z-LyQumnpH9",
        "outputId": "ef168aba-c4d2-40af-ef38-0a6b393e506b"
      },
      "outputs": [
        {
          "name": "stdout",
          "output_type": "stream",
          "text": [
            "Looking in indexes: https://pypi.org/simple, https://us-python.pkg.dev/colab-wheels/public/simple/\n",
            "\u001b[31mERROR: Could not find a version that satisfies the requirement jonlib (from versions: none)\u001b[0m\u001b[31m\n",
            "\u001b[0m\u001b[31mERROR: No matching distribution found for jonlib\u001b[0m\u001b[31m\n",
            "\u001b[0m"
          ]
        }
      ],
      "source": [
        "pip install jonlib"
      ]
    },
    {
      "cell_type": "code",
      "execution_count": null,
      "metadata": {
        "colab": {
          "base_uri": "https://localhost:8080/"
        },
        "id": "qBuGdD-KnnVZ",
        "outputId": "f6faae3e-aaa0-4758-d09a-e5566af269c3"
      },
      "outputs": [
        {
          "data": {
            "text/plain": [
              "['logistic_regression_loan_model.sav']"
            ]
          },
          "execution_count": 30,
          "metadata": {},
          "output_type": "execute_result"
        }
      ],
      "source": [
        "filename = 'logistic_regression_loan_model.sav'\n",
        "joblib.dump(model, filename)"
      ]
    },
    {
      "cell_type": "code",
      "execution_count": null,
      "metadata": {
        "id": "YOf9GId5D1Sf"
      },
      "outputs": [],
      "source": []
    },
    {
      "cell_type": "code",
      "execution_count": null,
      "metadata": {
        "colab": {
          "base_uri": "https://localhost:8080/"
        },
        "id": "ZKxJaVjFKIag",
        "outputId": "1a31925b-83cd-49e8-a986-cfd787fec747"
      },
      "outputs": [
        {
          "name": "stdout",
          "output_type": "stream",
          "text": [
            "Accuracy of SVM model: 83.23%\n"
          ]
        }
      ],
      "source": [
        "from sklearn.svm import SVC\n",
        "from sklearn.metrics import accuracy_score\n",
        "\n",
        "# Set the loan sanction amount threshold\n",
        "threshold = 5000\n",
        "\n",
        "X = data_encode.drop(['Loan Sanction Amount (USD)'], axis=1)\n",
        "y = data_encode['Loan Sanction Amount (USD)']\n",
        "\n",
        "# Convert the loan sanction amount into binary target variable\n",
        "y_binary = (data_encode['Loan Sanction Amount (USD)'] > threshold).astype(int)\n",
        "\n",
        "# Split the data into train and test sets\n",
        "X_train, X_test, y_train, y_test = train_test_split(X, y_binary, test_size=0.2, random_state=42)\n",
        "\n",
        "# Initialize the SVM model\n",
        "svm = SVC(kernel='linear', C=1)\n",
        "\n",
        "# Fit the SVM model on the training data\n",
        "svm.fit(X_train, y_train)\n",
        "\n",
        "# Predict the target variable for the test data\n",
        "y_pred_svm = svm.predict(X_test)\n",
        "\n",
        "# Calculate the accuracy score for the SVM model\n",
        "accuracy_svm = accuracy_score(y_test, y_pred_svm)\n",
        "\n",
        "print(\"Accuracy of SVM model: {:.2f}%\".format(accuracy_svm*100))\n"
      ]
    },
    {
      "cell_type": "code",
      "execution_count": null,
      "metadata": {
        "colab": {
          "base_uri": "https://localhost:8080/"
        },
        "id": "zjCeMULdKQob",
        "outputId": "2c207a48-f8e9-48ab-cb46-c87307c82d0b"
      },
      "outputs": [
        {
          "name": "stdout",
          "output_type": "stream",
          "text": [
            "Accuracy of Decision Tree model: 85.16%\n"
          ]
        }
      ],
      "source": [
        "from sklearn.tree import DecisionTreeClassifier\n",
        "\n",
        "X = data_encode.drop(['Loan Sanction Amount (USD)'], axis=1)\n",
        "y = data_encode['Loan Sanction Amount (USD)']\n",
        "\n",
        "# Set the loan sanction amount threshold\n",
        "threshold = 5000\n",
        "\n",
        "# Convert the loan sanction amount into binary target variable\n",
        "y_binary = (data_encode['Loan Sanction Amount (USD)'] > threshold).astype(int)\n",
        "\n",
        "# Split the data into train and test sets\n",
        "X_train, X_test, y_train, y_test = train_test_split(X, y_binary, test_size=0.2, random_state=42)\n",
        "\n",
        "# Initialize the Decision Tree model\n",
        "dt = DecisionTreeClassifier()\n",
        "\n",
        "# Fit the Decision Tree model on the training data\n",
        "dt.fit(X_train, y_train)\n",
        "\n",
        "# Predict the target variable for the test data\n",
        "y_pred_dt = dt.predict(X_test)\n",
        "\n",
        "# Calculate the accuracy score for the Decision Tree model\n",
        "accuracy_dt = accuracy_score(y_test, y_pred_dt)\n",
        "\n",
        "print(\"Accuracy of Decision Tree model: {:.2f}%\".format(accuracy_dt*100))\n"
      ]
    },
    {
      "cell_type": "code",
      "execution_count": null,
      "metadata": {
        "colab": {
          "base_uri": "https://localhost:8080/"
        },
        "id": "eHv3D8OGqHkU",
        "outputId": "29f0a47a-4d76-411f-f032-dedf98350ef9"
      },
      "outputs": [
        {
          "name": "stdout",
          "output_type": "stream",
          "text": [
            "Confusion matrix:\n",
            " [[1192  379]\n",
            " [ 486 3678]]\n"
          ]
        }
      ],
      "source": [
        "from sklearn.model_selection import train_test_split\n",
        "from sklearn.tree import DecisionTreeClassifier\n",
        "from sklearn.metrics import confusion_matrix\n",
        "\n",
        "X = data_encode.drop(['Loan Sanction Amount (USD)'], axis=1)\n",
        "y = data_encode['Loan Sanction Amount (USD)']\n",
        "\n",
        "# Set the loan sanction amount threshold\n",
        "threshold = 5000\n",
        "\n",
        "# Convert the loan sanction amount into binary target variable\n",
        "y_binary = (data_encode['Loan Sanction Amount (USD)'] > threshold).astype(int)\n",
        "\n",
        "# Split data into training and testing sets\n",
        "X_train, X_test, y_train, y_test = train_test_split(X, y_binary, test_size=0.2, random_state=42)\n",
        "\n",
        "# Create a Decision Tree model object\n",
        "tree_model = DecisionTreeClassifier()\n",
        "\n",
        "# Fit the model on the training set\n",
        "tree_model.fit(X_train, y_train)\n",
        "\n",
        "# Predict on the testing set\n",
        "y_pred = tree_model.predict(X_test)\n",
        "\n",
        "# Create a confusion matrix\n",
        "conf_matrix = confusion_matrix(y_test, y_pred)\n",
        "\n",
        "# Print the confusion matrix\n",
        "print(\"Confusion matrix:\\n\", conf_matrix)\n"
      ]
    },
    {
      "cell_type": "code",
      "execution_count": null,
      "metadata": {
        "colab": {
          "base_uri": "https://localhost:8080/"
        },
        "id": "-LHBnMyNmXJt",
        "outputId": "bda669f0-29e9-4207-de75-e3d7f5067d48"
      },
      "outputs": [
        {
          "name": "stdout",
          "output_type": "stream",
          "text": [
            "Confusion matrix:\n",
            " [[   0 1571]\n",
            " [   0 4164]]\n"
          ]
        }
      ],
      "source": [
        "from sklearn.model_selection import train_test_split\n",
        "from sklearn.svm import SVC\n",
        "from sklearn.metrics import confusion_matrix\n",
        "\n",
        "# Set the loan sanction amount threshold\n",
        "threshold = 5000\n",
        "\n",
        "X = data_encode.drop(['Loan Sanction Amount (USD)'], axis=1)\n",
        "y = data_encode['Loan Sanction Amount (USD)']\n",
        "\n",
        "# Convert the loan sanction amount into binary target variable\n",
        "y_binary = (data_encode['Loan Sanction Amount (USD)'] > threshold).astype(int)\n",
        "\n",
        "# Split data into training and testing sets\n",
        "X_train, X_test, y_train, y_test = train_test_split(X, y_binary, test_size=0.2, random_state=42)\n",
        "\n",
        "# Create a SVM model object\n",
        "svm_model = SVC()\n",
        "\n",
        "# Fit the model on the training set\n",
        "svm_model.fit(X_train, y_train)\n",
        "\n",
        "# Predict on the testing set\n",
        "y_pred = svm_model.predict(X_test)\n",
        "\n",
        "# Create a confusion matrix\n",
        "conf_matrix = confusion_matrix(y_test, y_pred)\n",
        "\n",
        "# Print the confusion matrix\n",
        "print(\"Confusion matrix:\\n\", conf_matrix)\n"
      ]
    },
    {
      "cell_type": "code",
      "execution_count": null,
      "metadata": {
        "id": "FCaRz66XnLQC"
      },
      "outputs": [],
      "source": []
    }
  ],
  "metadata": {
    "colab": {
      "provenance": []
    },
    "kernelspec": {
      "display_name": "Python 3",
      "name": "python3"
    },
    "language_info": {
      "name": "python"
    }
  },
  "nbformat": 4,
  "nbformat_minor": 0
}
